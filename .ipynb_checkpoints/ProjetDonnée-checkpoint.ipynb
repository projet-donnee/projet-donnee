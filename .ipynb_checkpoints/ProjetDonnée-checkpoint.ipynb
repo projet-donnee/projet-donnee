{
 "cells": [
  {
   "cell_type": "code",
   "execution_count": null,
   "id": "0a14f8d7",
   "metadata": {},
   "outputs": [],
   "source": [
    "import requests \n",
    "import pandas as pd \n",
    "import boto3\n",
    "from datetime import datetime"
   ]
  },
  {
   "cell_type": "code",
   "execution_count": null,
   "id": "5042b58c",
   "metadata": {},
   "outputs": [],
   "source": [
    "# Configuration d'AWS\n",
    "aws_access_key = 'VOTRE_ACCESS_KEY'\n",
    "aws_secret_key = 'VOTRE_SECRET_KEY'\n",
    "s3_bucket_name = 'databuckets3'"
   ]
  },
  {
   "cell_type": "code",
   "execution_count": null,
   "id": "1d27a751",
   "metadata": {},
   "outputs": [],
   "source": [
    "# API Weather API pour les prévisions météorologiques\n",
    "weather_api_key = 'a42386cba08d40f9aab60416230208'\n",
    "weather_api_url = f'http://api.weatherapi.com/v1/current.json?key={weather_api_key}&q=Antananarivo&aqi=no'\n",
    "\n",
    "# Appel API pour récupérer les données météorologiques\n",
    "response = requests.get(weather_api_url)\n",
    "weather_data = response.json()\n",
    "\n",
    "# Extraction des données nécessaires\n",
    "location_data = weather_data['location']\n",
    "current_data = weather_data['current']\n",
    "\n",
    "# Extraction des informations de localisation\n",
    "location_name = location_data['name']\n",
    "country = location_data['country']\n",
    "localtime = location_data['localtime']\n",
    "\n",
    "# Extraction des informations météorologiques actuelles\n",
    "last_updated = current_data['last_updated']\n",
    "temperature_c = current_data['temp_c']\n",
    "temperature_f = current_data['temp_f']\n",
    "is_day = current_data['is_day']\n",
    "condition_text = current_data['condition']['text']\n",
    "uv = current_data['uv']\n",
    "\n",
    "# Création d'un DataFrame pandas pour stocker les données météorologiques\n",
    "weather_df = pd.DataFrame({\n",
    "    'Location': [location_name],\n",
    "    'Country': [country],\n",
    "    'LocalTime': [localtime],\n",
    "    'LastUpdated': [last_updated],\n",
    "    'TemperatureC': [temperature_c],\n",
    "    'TemperatureF': [temperature_f],\n",
    "    'IsDay': [is_day],\n",
    "    'Condition': [condition_text],\n",
    "    'UV': [uv]\n",
    "})\n",
    "\n",
    "# Transformation et stockage dans un fichier CSV local\n",
    "weather_csv_filename = 'weather_data.csv'\n",
    "weather_df.to_csv(weather_csv_filename, index=False)\n",
    "\n",
    "print(\"Données météorologiques extraites et transformées.\")"
   ]
  },
  {
   "cell_type": "code",
   "execution_count": null,
   "id": "1b74f24b",
   "metadata": {},
   "outputs": [],
   "source": [
    "# Nom du fichier de sortie avec la date actuelle\n",
    "now = datetime.now()\n",
    "output_filename = f\"sujet_{now.strftime('%Y_%m_%d')}.csv\""
   ]
  },
  {
   "cell_type": "code",
   "execution_count": null,
   "id": "b0879a16",
   "metadata": {},
   "outputs": [],
   "source": [
    "# Sauvegarder le DataFrame au format CSV localement\n",
    "weather_df.to_csv(output_filename, index=False)"
   ]
  },
  {
   "cell_type": "code",
   "execution_count": null,
   "id": "481b527a",
   "metadata": {},
   "outputs": [],
   "source": [
    "# Connexion à Amazon S3 via Boto\n",
    "s3 = boto3.client('s3', aws_access_key_id=aws_access_key, aws_secret_access_key=aws_secret_key)"
   ]
  },
  {
   "cell_type": "code",
   "execution_count": null,
   "id": "87291965",
   "metadata": {},
   "outputs": [],
   "source": [
    "# Stocker le fichier vers Amazon S3\n",
    "s3.upload_file(output_filename, s3_bucket_name, output_filename)\n",
    "\n",
    "print(f\"Le fichier {output_filename} a été stocké avec succès vers {s3_bucket_name}/{output_filename}\")"
   ]
  },
  {
   "cell_type": "code",
   "execution_count": null,
   "id": "7d78ba0f",
   "metadata": {},
   "outputs": [],
   "source": []
  }
 ],
 "metadata": {
  "kernelspec": {
   "display_name": "Python 3 (ipykernel)",
   "language": "python",
   "name": "python3"
  },
  "language_info": {
   "codemirror_mode": {
    "name": "ipython",
    "version": 3
   },
   "file_extension": ".py",
   "mimetype": "text/x-python",
   "name": "python",
   "nbconvert_exporter": "python",
   "pygments_lexer": "ipython3",
   "version": "3.11.4"
  }
 },
 "nbformat": 4,
 "nbformat_minor": 5
}
