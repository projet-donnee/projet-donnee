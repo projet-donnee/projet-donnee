{
 "cells": [
  {
   "cell_type": "code",
   "execution_count": 19,
   "metadata": {},
   "outputs": [],
   "source": [
    "import requests \n",
    "import pandas as pd\n",
    "import boto3\n",
    "from datetime import datetime"
   ]
  },
  {
   "cell_type": "code",
   "execution_count": 20,
   "metadata": {},
   "outputs": [],
   "source": [
    "# Configuration d'AWS\n",
    "aws_access_key = ''\n",
    "aws_secret_key = ''\n",
    "s3_bucket_name = 'databuckets3'"
   ]
  },
  {
   "cell_type": "code",
   "execution_count": 21,
   "metadata": {},
   "outputs": [
    {
     "name": "stdout",
     "output_type": "stream",
     "text": [
      "Données météorologiques extraites et transformées.\n"
     ]
    }
   ],
   "source": [
    "# API Weather API pour les prévisions météorologiques\n",
    "weather_api_key = 'a42386cba08d40f9aab60416230208'\n",
    "weather_api_url = f'http://api.weatherapi.com/v1/current.json?key={weather_api_key}&q=Antananarivo&aqi=no'\n",
    "\n",
    "# Appel API pour récupérer les données météorologiques\n",
    "response = requests.get(weather_api_url)\n",
    "weather_data = response.json()\n",
    "\n",
    "# Extraction des données nécessaires\n",
    "location_data = weather_data['location']\n",
    "current_data = weather_data['current']\n",
    "\n",
    "# Extraction des informations de localisation\n",
    "location_name = location_data['name']\n",
    "country = location_data['country']\n",
    "localtime = location_data['localtime']\n",
    "\n",
    "# Extraction des informations météorologiques actuelles\n",
    "last_updated = current_data['last_updated']\n",
    "temperature_c = current_data['temp_c']\n",
    "temperature_f = current_data['temp_f']\n",
    "is_day = current_data['is_day']\n",
    "condition_text = current_data['condition']['text']\n",
    "uv = current_data['uv']\n",
    "\n",
    "# Création d'un DataFrame pandas pour stocker les données météorologiques\n",
    "weather_df = pd.DataFrame({\n",
    "    'Location': [location_name],\n",
    "    'Country': [country],\n",
    "    'LocalTime': [localtime],\n",
    "    'LastUpdated': [last_updated],\n",
    "    'TemperatureC': [temperature_c],\n",
    "    'TemperatureF': [temperature_f],\n",
    "    'IsDay': [is_day],\n",
    "    'Condition': [condition_text],\n",
    "    'UV': [uv]\n",
    "})\n",
    "\n",
    "# Transformation et stockage dans un fichier CSV local\n",
    "weather_csv_filename = 'weather_data1.csv'\n",
    "weather_df.to_csv(weather_csv_filename, index=False)\n",
    "\n",
    "print(\"Données météorologiques extraites et transformées.\")"
   ]
  },
  {
   "cell_type": "code",
   "execution_count": 22,
   "metadata": {},
   "outputs": [],
   "source": [
    "# Nom du fichier de sortie \n",
    "output_filename = f\"weather_data1.csv\""
   ]
  },
  {
   "cell_type": "code",
   "execution_count": 23,
   "metadata": {},
   "outputs": [],
   "source": [
    "# Sauvegarder le DataFrame au format CSV localement\n",
    "weather_df.to_csv(output_filename, index=False)"
   ]
  },
  {
   "cell_type": "code",
   "execution_count": 24,
   "metadata": {},
   "outputs": [],
   "source": [
    "# Connexion à Amazon S3 via Boto\n",
    "s3 = boto3.client('s3', aws_access_key_id=aws_access_key, aws_secret_access_key=aws_secret_key)"
   ]
  },
  {
   "cell_type": "code",
   "execution_count": 25,
   "metadata": {},
   "outputs": [
    {
     "name": "stdout",
     "output_type": "stream",
     "text": [
      "Le fichier weather_data1.csv a été stocké avec succès vers databuckets3/weather_data1.csv\n"
     ]
    }
   ],
   "source": [
    "# Stocker le fichier vers Amazon S3\n",
    "s3.upload_file(output_filename, s3_bucket_name, output_filename)\n",
    "\n",
    "print(f\"Le fichier {output_filename} a été stocké avec succès vers {s3_bucket_name}/{output_filename}\")"
   ]
  }
 ],
 "metadata": {
  "kernelspec": {
   "display_name": "Python 3 (ipykernel)",
   "language": "python",
   "name": "python3"
  },
  "language_info": {
   "codemirror_mode": {
    "name": "ipython",
    "version": 3
   },
   "file_extension": ".py",
   "mimetype": "text/x-python",
   "name": "python",
   "nbconvert_exporter": "python",
   "pygments_lexer": "ipython3",
   "version": "3.11.4"
  },
  "vscode": {
   "interpreter": {
    "hash": "2c7bbcc60ba8f6a77e5c0c957aac5f1e9b920a296771fef5c8acbbd0a8482d43"
   }
  }
 },
 "nbformat": 4,
 "nbformat_minor": 2
}
